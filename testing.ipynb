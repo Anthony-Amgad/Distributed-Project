{
 "cells": [
  {
   "cell_type": "code",
   "execution_count": 9,
   "metadata": {},
   "outputs": [],
   "source": [
    "from pymongo.mongo_client import MongoClient\n",
    "from pymongo.server_api import ServerApi\n",
    "db_ip = \"ec2-54-162-162-190.compute-1.amazonaws.com\"\n",
    "db_port = 28041\n",
    "mongoClient = MongoClient(db_ip, db_port)"
   ]
  },
  {
   "cell_type": "code",
   "execution_count": 15,
   "metadata": {},
   "outputs": [],
   "source": [
    "#'lobby_id': \"4bef5d35-819b-4283-8578-da12c009f161\"\n",
    "positions = mongoClient['racingGameDB']['Positions'].find({'lobby_id': \"4bef5d35-819b-4283-8578-da12c009f161\"}).sort('timestamp', -1).limit(1)"
   ]
  },
  {
   "cell_type": "code",
   "execution_count": 16,
   "metadata": {},
   "outputs": [
    {
     "data": {
      "text/plain": [
       "['(-8.83, 1.43, 541.52)',\n",
       " '(0.0,-6.0,0.0)',\n",
       " '(0.0,-8.0,0.0)',\n",
       " '(0.0,-10.0,0.0)']"
      ]
     },
     "execution_count": 16,
     "metadata": {},
     "output_type": "execute_result"
    }
   ],
   "source": [
    "positions[0]['positions']"
   ]
  }
 ],
 "metadata": {
  "kernelspec": {
   "display_name": "Python 3",
   "language": "python",
   "name": "python3"
  },
  "language_info": {
   "codemirror_mode": {
    "name": "ipython",
    "version": 3
   },
   "file_extension": ".py",
   "mimetype": "text/x-python",
   "name": "python",
   "nbconvert_exporter": "python",
   "pygments_lexer": "ipython3",
   "version": "3.10.8"
  },
  "orig_nbformat": 4
 },
 "nbformat": 4,
 "nbformat_minor": 2
}
